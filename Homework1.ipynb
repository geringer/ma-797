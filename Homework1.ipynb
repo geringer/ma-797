{
  "nbformat": 4,
  "nbformat_minor": 0,
  "metadata": {
    "colab": {
      "name": "Homework1.ipynb",
      "provenance": [],
      "include_colab_link": true
    },
    "kernelspec": {
      "name": "python3",
      "display_name": "Python 3"
    }
  },
  "cells": [
    {
      "cell_type": "markdown",
      "metadata": {
        "id": "view-in-github",
        "colab_type": "text"
      },
      "source": [
        "<a href=\"https://colab.research.google.com/github/geringer/ma-797/blob/master/Homework1.ipynb\" target=\"_parent\"><img src=\"https://colab.research.google.com/assets/colab-badge.svg\" alt=\"Open In Colab\"/></a>"
      ]
    },
    {
      "cell_type": "markdown",
      "metadata": {
        "id": "c3Q097QaVVvW",
        "colab_type": "text"
      },
      "source": [
        "# MA 797 Homework #1\n",
        "\n",
        "Note: For this assignment, you will code all problems in python. You may\n",
        "use sci-kit learn unless specifically stated otherwise. When you email me your\n",
        "\n",
        "\n"
      ]
    },
    {
      "cell_type": "code",
      "metadata": {
        "id": "CLdVOy81VRgT",
        "colab_type": "code",
        "colab": {}
      },
      "source": [
        "import numpy as np\n",
        "\n",
        "def generate_gaussian_classes(m, S, P, N):\n",
        "  \n",
        "  # m := 1xc matrix whose jth column corresponds to the mean of the jth class\n",
        "  # S := 1x1xc matrix whose jth corresponds to the covariance of the jth class\n",
        "  # P := x-demensional vecotr whose jth class is the priori prob of jth clas\n",
        "  # N := total number of data vectors to be generated\n",
        "  # Note: this may generate less than N values due to the floor function\n",
        "  \n",
        "  X = []\n",
        "  y = []\n",
        "  \n",
        "  for j in range(len(m)):\n",
        "    \n",
        "    t = np.random.multivariate_normal( m[j], S[j], 333)#, int(P[j] * N))\n",
        "    s = [j]*333\n",
        "    \n",
        "    X.append(t)\n",
        "    y.append(s)\n",
        "    \n",
        "  X = np.vstack(X)\n",
        "  y = np.vstack(y).flatten()\n",
        "  return X, y\n",
        "\n",
        "def euclidean_classifier(m, X):\n",
        "  \n",
        "  # m := 1xc matrix whose ith column corresponds to the mean of the ith class\n",
        "  # X := 1xN matrix whose columns are the data vectors to be classified\n",
        "  \n",
        "  y_hat = []\n",
        "  confidence = []\n",
        "  \n",
        "  for x in X:\n",
        "    A = []\n",
        "    \n",
        "    for mean in m: \n",
        "      distance = (x - mean)\n",
        "      A.append( np.sqrt( np.dot( np.transpose(distance), distance ) ) )\n",
        "    \n",
        "    guess = np.where(A == np.amin(A))\n",
        "    y_hat.append(guess)\n",
        "    \n",
        "    prob = 1.0 - np.amin(A) / np.linalg.norm(A)\n",
        "    confidence.append(prob)\n",
        "  \n",
        "  confidence_np = np.vstack(confidence)\n",
        "  y_hat_np = np.vstack(y_hat)\n",
        "  \n",
        "  return np.hstack([y_hat_np, confidence_np])\n",
        "\n",
        "\n",
        "\n",
        "def mahalanobis_classifier(m, S, X):\n",
        "  \n",
        "  # m := 1xc matric whose ith column is the mean of the ith class\n",
        "  # S := 1x1 matrix corresponding to the matrix in the mahalonobis distance\n",
        "  # X := 1xN whos columns are data vectors to be classfied\n",
        "  \n",
        "  y_hat = []\n",
        "  confidence = []\n",
        "  \n",
        "  for x in X:\n",
        "    \n",
        "    A = []\n",
        "    \n",
        "    for i in range(len(m)):\n",
        "      \n",
        "      mean = m[i]\n",
        "      distance = (x - mean)\n",
        "      right = np.dot( np.linalg.inv(S[i,:,:]) , distance ) \n",
        "      A.append( np.sqrt( np.dot( np.transpose(distance), right ) ) )\n",
        "      \n",
        "    guess = np.where(A == np.amin(A))\n",
        "    y_hat.append(guess)\n",
        "    \n",
        "    prob = 1.0 - np.amin(A) / np.linalg.norm(A)\n",
        "    confidence.append(prob)\n",
        "    \n",
        "  confidence_np = np.vstack(confidence)\n",
        "  y_hat_np = np.vstack(y_hat)\n",
        "  \n",
        "  return np.hstack([y_hat_np, confidence_np])\n",
        "\n",
        "\n",
        "\n",
        "def bayesian_classifier(m, S, P, X):\n",
        "  \n",
        "  # m := lxc matrix whose jth column corresponds to the mean of the jth class\n",
        "  # S := cxlxl matrix whose jth corresponds to the covariance of the jth class\n",
        "  # P := x-demensional vecotr whose jth class is the priori prob of jth clas\n",
        "  # N := total number of data vectors to be generated\n",
        "  \n",
        "  y_hat = []\n",
        "  confidence = []\n",
        "  \n",
        "  for x in X:\n",
        "    \n",
        "    A = []\n",
        "    \n",
        "    for i in range(len(m)):\n",
        "      \n",
        "      mean = m[i]\n",
        "      distance = (x - mean)\n",
        "      not_dot = np.matmul(np.linalg.inv(S[i,:,:]), distance)\n",
        "      exp_component = np.dot( np.transpose(distance), not_dot)\n",
        "      \n",
        "      det_S_inv = np.linalg.det(np.linalg.inv(S[i,:,:]))\n",
        "      denominator = np.sqrt(2 * np.pi * det_S_inv) \n",
        "      value  = np.exp(-1/2 * exp_component) / denominator\n",
        "      A.append(P[i] * value)\n",
        "      \n",
        "    guess = np.where(A == np.amax(A))\n",
        "    y_hat.append(guess)\n",
        "    \n",
        "    prob = 1.0 - np.amin(A) / np.linalg.norm(A)\n",
        "    confidence.append(prob)\n",
        "    \n",
        "  confidence_np = np.vstack(confidence)\n",
        "  y_hat_np = np.vstack(y_hat)\n",
        "  \n",
        "  return np.hstack([y_hat_np, confidence_np])\n",
        "\n",
        "def calculate_error(y_guess, y_truth):\n",
        "  \n",
        "  if y_guess.size != y_truth.size:\n",
        "    print(\"Array size mismatch\")\n",
        "\n",
        "  total = len(y_guess)\n",
        "  sum = 0.0\n",
        "  \n",
        "  for i in range(total):\n",
        "    if y_guess[i] != y_truth[i]:\n",
        "      sum += 1.0\n",
        "      \n",
        "  error = sum / float(total)\n",
        "  \n",
        "  return error\n"
      ],
      "execution_count": 0,
      "outputs": []
    },
    {
      "cell_type": "markdown",
      "metadata": {
        "id": "vjyeKCCVmBMH",
        "colab_type": "text"
      },
      "source": [
        "## Problem 1\n",
        "\n",
        "Generate 2 data sets, X (training set) and X1 (test set), each consisting of N = 1000 3-d vectors that stem from three equiprobable classes w1, w2, and w3.\n",
        "\n",
        "The classes are modeled by Gaussian distributions with means m1 = [0, 0, 0]T, m2 = [1, 2, 2]T,and m3 = [3, 3, 4]T, respectively; their covariance matrices are S1 = S2 = S3 = 0.8I.\n",
        "\n"
      ]
    },
    {
      "cell_type": "code",
      "metadata": {
        "id": "gasWDa8haap9",
        "colab_type": "code",
        "colab": {}
      },
      "source": [
        "m1 = np.array([0, 0, 0])\n",
        "m2 = np.array([1, 2, 2])\n",
        "m3 = np.array([3, 3, 4])\n",
        "m = [m1, m2, m3]\n",
        "\n",
        "s1 = np.array([\n",
        "    [.8, 0, 0], \n",
        "    [0, .8, 0], \n",
        "    [0, 0, .8]])\n",
        "\n",
        "s2 = s1\n",
        "s3 = s1\n",
        "S = np.stack([s1, s2, s3])\n",
        "\n",
        "P = np.array([1, 1, 1])\n",
        "\n",
        "N = 1000\n",
        "\n",
        "X_train, y_train = generate_gaussian_classes(m, S, P, N)\n",
        "X_test, y_test = generate_gaussian_classes(m, S, P, N)"
      ],
      "execution_count": 0,
      "outputs": []
    },
    {
      "cell_type": "markdown",
      "metadata": {
        "id": "gxrHStcXhSwX",
        "colab_type": "text"
      },
      "source": [
        "### Problem 1(a)\n",
        "Using X, compute the maximum likelihood estimates of the mean values and the co- variance matrices of the distributions of the three classes. Since the covariance matrices are known to the the same, estimate them for each class and compute their average. Use the latter as the estimate of the (common) covariance matrix."
      ]
    },
    {
      "cell_type": "code",
      "metadata": {
        "id": "jfDNVXMxhRb8",
        "colab_type": "code",
        "colab": {}
      },
      "source": [
        "m1_train = np.mean(X_train[0:333], axis = 0)\n",
        "m2_train = np.mean(X_train[333:666], axis = 0)\n",
        "m3_train = np.mean(X_train[666:999], axis = 0)\n",
        "\n",
        "m_train = [m1_train, m2_train, m3_train]\n",
        "\n",
        "s1_train = np.cov(X_train[0:333], rowvar = False)\n",
        "s2_train = np.cov(X_train[333:666], rowvar = False)\n",
        "s3_train = np.cov(X_train[666:999], rowvar = False)\n",
        "\n",
        "S_train = np.stack([s1_train, s2_train, s3_train])\n",
        "S_common = np.mean(S_train, axis = 0)"
      ],
      "execution_count": 0,
      "outputs": []
    },
    {
      "cell_type": "markdown",
      "metadata": {
        "id": "jecdBjMrhlXY",
        "colab_type": "text"
      },
      "source": [
        "### Problem 1(b)\n",
        "\n",
        "Use the Euclidean distance classifier to classify the points of X1 based on the ML estimates computed before. (Program your own classifier function.)\n",
        "\n"
      ]
    },
    {
      "cell_type": "code",
      "metadata": {
        "id": "juuIOB1-hqaO",
        "colab_type": "code",
        "colab": {}
      },
      "source": [
        "y_hat_euclidean = euclidean_classifier(m_train, X_test)"
      ],
      "execution_count": 0,
      "outputs": []
    },
    {
      "cell_type": "markdown",
      "metadata": {
        "id": "DSHUEMc1hrPc",
        "colab_type": "text"
      },
      "source": [
        "### Problem 1(c)\n",
        "\n",
        "Use the Mahalonobis distance classifier to classify the points of X1 based on the ML estimates computes before. (Program your own classifier function.)"
      ]
    },
    {
      "cell_type": "code",
      "metadata": {
        "id": "lQoEXNuLhvFQ",
        "colab_type": "code",
        "colab": {}
      },
      "source": [
        "y_hat_mahalanobis = mahalanobis_classifier(m_train, S_train, X_test)"
      ],
      "execution_count": 0,
      "outputs": []
    },
    {
      "cell_type": "markdown",
      "metadata": {
        "id": "2zBPX9gxhxTC",
        "colab_type": "text"
      },
      "source": [
        "### Problem 1(d)\n",
        "\n",
        "Use the Bayesian classifier to classify the points of X1 basedon the ML estimates com- puted before. (Program your own classifier function.)"
      ]
    },
    {
      "cell_type": "code",
      "metadata": {
        "id": "7D1Kl7o7h3df",
        "colab_type": "code",
        "colab": {}
      },
      "source": [
        "y_hat_bayes = bayesian_classifier(m_train, S_train, P, X_test)"
      ],
      "execution_count": 0,
      "outputs": []
    },
    {
      "cell_type": "markdown",
      "metadata": {
        "id": "3yKHwZPlh3xH",
        "colab_type": "text"
      },
      "source": [
        "### Problem 1(e)\n",
        "\n",
        "For each case, compute the error probability and compare the results (Why do all classifiers result in the same performance?)"
      ]
    },
    {
      "cell_type": "code",
      "metadata": {
        "id": "_0ZXM-Uhh8gk",
        "colab_type": "code",
        "outputId": "75517e84-2285-4f47-c291-b0372fffc7c5",
        "colab": {
          "base_uri": "https://localhost:8080/",
          "height": 68
        }
      },
      "source": [
        "euclidean_error = calculate_error(y_hat_euclidean[:,0], y_test)\n",
        "print(\"The Euclidean Classifer has an error rate of \", euclidean_error * 100, \"%\")\n",
        "\n",
        "mahalanobis_error = calculate_error(y_hat_mahalanobis[:,0], y_test)\n",
        "print(\"The Mahalanobis Classifer has an error rate of \", mahalanobis_error * 100, \"%\")\n",
        "\n",
        "bayes_error = calculate_error(y_hat_bayes[:,0], y_test)\n",
        "print(\"The Bayesian Classifer has an error rate of \", bayes_error * 100, \"%\")\n",
        "\n",
        "###INCLUDE ANALYSIS\n"
      ],
      "execution_count": 0,
      "outputs": [
        {
          "output_type": "stream",
          "text": [
            "The Euclidean Classifer has an error rate of  5.7057057057057055 %\n",
            "The Mahalanobis Classifer has an error rate of  5.805805805805806 %\n",
            "The Bayesian Classifer has an error rate of  5.605605605605605 %\n"
          ],
          "name": "stdout"
        }
      ]
    },
    {
      "cell_type": "markdown",
      "metadata": {
        "id": "02cSBNMNowEf",
        "colab_type": "text"
      },
      "source": [
        "## Problem 2\n",
        "\n",
        "Repeat exercise (1) for (a) - (e) but now assume P1 = 0.5, P2 = P3 = 0.25\n",
        "Generate X and X1."
      ]
    },
    {
      "cell_type": "code",
      "metadata": {
        "id": "7o4v2vVmacHi",
        "colab_type": "code",
        "colab": {}
      },
      "source": [
        "m1 = np.array([0, 0, 0])\n",
        "m2 = np.array([1, 2, 2])\n",
        "m3 = np.array([3, 3, 4])\n",
        "m = [m1, m2, m3]\n",
        "\n",
        "s1 = np.array([\n",
        "    [.8, 0, 0], \n",
        "    [0, .8, 0], \n",
        "    [0, 0, .8]])\n",
        "\n",
        "s2 = s1\n",
        "s3 = s1\n",
        "S = np.stack([s1, s2, s3])\n",
        "\n",
        "P = np.array([.5, .25, .25])\n",
        "\n",
        "N = 1000\n",
        "\n",
        "X_train, y_train = generate_gaussian_classes(m, S, P, N)\n",
        "X_test, y_test = generate_gaussian_classes(m, S, P, N)"
      ],
      "execution_count": 0,
      "outputs": []
    },
    {
      "cell_type": "markdown",
      "metadata": {
        "id": "ZlIGDPU9m6mN",
        "colab_type": "text"
      },
      "source": [
        "### Problem 2(a)\n",
        "Using X, compute the maximum likelihood estimates of the mean values and the co- variance matrices of the distributions of the three classes. Since the covariance matrices are known to the the same, estimate them for each class and compute their average. Use the latter as the estimate of the (common) covariance matrix."
      ]
    },
    {
      "cell_type": "code",
      "metadata": {
        "id": "DuNJYoBbm69N",
        "colab_type": "code",
        "colab": {}
      },
      "source": [
        "m1_train = np.mean(X_train[0:333], axis = 0)\n",
        "m2_train = np.mean(X_train[333:666], axis = 0)\n",
        "m3_train = np.mean(X_train[666:999], axis = 0)\n",
        "\n",
        "m_train = [m1_train, m2_train, m3_train]\n",
        "\n",
        "s1_train = np.cov(X_train[0:333], rowvar = False)\n",
        "s2_train = np.cov(X_train[333:666], rowvar = False)\n",
        "s3_train = np.cov(X_train[666:999], rowvar = False)\n",
        "\n",
        "S_train = np.stack([s1_train, s2_train, s3_train])\n",
        "S_common = np.mean(S_train, axis = 0)"
      ],
      "execution_count": 0,
      "outputs": []
    },
    {
      "cell_type": "markdown",
      "metadata": {
        "id": "GR2ub6tTm7wH",
        "colab_type": "text"
      },
      "source": [
        "### Problem 2(b)\n",
        "\n",
        "Use the Euclidean distance classifier to classify the points of X1 based on the ML estimates computed before. (Program your own classifier function.)"
      ]
    },
    {
      "cell_type": "code",
      "metadata": {
        "id": "V4CHmvkgm79p",
        "colab_type": "code",
        "colab": {}
      },
      "source": [
        "y_hat_euclidean = euclidean_classifier(m_train, X_test)"
      ],
      "execution_count": 0,
      "outputs": []
    },
    {
      "cell_type": "markdown",
      "metadata": {
        "id": "AlLGLTKim8KS",
        "colab_type": "text"
      },
      "source": [
        "### Problem 2(c)\n",
        "\n",
        "Use the Mahalonobis distance classifier to classify the points of X1 based on the ML estimates computes before. (Program your own classifier function.)"
      ]
    },
    {
      "cell_type": "code",
      "metadata": {
        "id": "GY5MHBz4m8VV",
        "colab_type": "code",
        "colab": {}
      },
      "source": [
        "y_hat_mahalanobis = mahalanobis_classifier(m_train, S_train, X_test)"
      ],
      "execution_count": 0,
      "outputs": []
    },
    {
      "cell_type": "markdown",
      "metadata": {
        "id": "fTpSa_aZm8gx",
        "colab_type": "text"
      },
      "source": [
        "### Problem 2(d)\n",
        "\n",
        "Use the Bayesian classifier to classify the points of X1 basedon the ML estimates com- puted before. (Program your own classifier function.)"
      ]
    },
    {
      "cell_type": "code",
      "metadata": {
        "id": "XlXzoiX-m8q6",
        "colab_type": "code",
        "colab": {}
      },
      "source": [
        "y_hat_bayes = bayesian_classifier(m_train, S_train, P, X_test)"
      ],
      "execution_count": 0,
      "outputs": []
    },
    {
      "cell_type": "markdown",
      "metadata": {
        "id": "8jzCF00Bm80e",
        "colab_type": "text"
      },
      "source": [
        "### Problem 2(e)\n",
        "\n",
        "For each case, compute the error probability and compare the results (Why does the Bayesian classifier result in the best performance?)"
      ]
    },
    {
      "cell_type": "code",
      "metadata": {
        "id": "Uae2vc-gm8_b",
        "colab_type": "code",
        "outputId": "1aff4548-3249-4d82-ffed-7e56259851d4",
        "colab": {
          "base_uri": "https://localhost:8080/",
          "height": 68
        }
      },
      "source": [
        "euclidean_error = calculate_error(y_hat_euclidean[:,0], y_test)\n",
        "print(\"The Euclidean Classifer has an error rate of \", euclidean_error * 100, \"%\")\n",
        "\n",
        "mahalanobis_error = calculate_error(y_hat_mahalanobis[:,0], y_test)\n",
        "print(\"The Mahalanobis Classifer has an error rate of \", mahalanobis_error * 100, \"%\")\n",
        "\n",
        "bayes_error = calculate_error(y_hat_bayes[:,0], y_test)\n",
        "print(\"The Bayesian Classifer has an error rate of \", bayes_error * 100, \"%\")"
      ],
      "execution_count": 0,
      "outputs": [
        {
          "output_type": "stream",
          "text": [
            "The Euclidean Classifer has an error rate of  5.805805805805806 %\n",
            "The Mahalanobis Classifer has an error rate of  5.805805805805806 %\n",
            "The Bayesian Classifer has an error rate of  6.206206206206207 %\n"
          ],
          "name": "stdout"
        }
      ]
    },
    {
      "cell_type": "markdown",
      "metadata": {
        "id": "b3P-CLplbU4g",
        "colab_type": "text"
      },
      "source": [
        "## Problem 3\n",
        "Use the data from exercise (1)\n",
        "\n",
        "### Problem 3(a)\n",
        "Compute an estimate for the PDFs using Parzen windows (kernel density estimation),\n",
        "i.e., to compute p(x|w1) and p(x|w2). Note that parts (a) and (b) of this problem are\n",
        "connected in the choice of the window size h."
      ]
    },
    {
      "cell_type": "code",
      "metadata": {
        "id": "RzQDk9kuWZ4-",
        "colab_type": "code",
        "outputId": "9b39aaef-13e1-4223-8d8c-915e6f1c3fab",
        "colab": {
          "base_uri": "https://localhost:8080/",
          "height": 34
        }
      },
      "source": [
        "from sklearn.neighbors.kde import KernelDensity\n",
        "\n",
        "parzen = KernelDensity(kernel='gaussian', bandwidth=1).fit(X_train)\n",
        "P_train = parzen.score_samples(X_train)\n",
        "\n",
        "y_hat_bayes = bayesian_classifier(m_train, S_train, P_train, X_test)\n",
        "\n",
        "bayes_error = calculate_error(y_hat_bayes[:,0], y_test)\n",
        "print(\"The Bayesian Classifer has an error rate of \", bayes_error * 100, \"%\")"
      ],
      "execution_count": 0,
      "outputs": [
        {
          "output_type": "stream",
          "text": [
            "The Bayesian Classifer has an error rate of  100.0 %\n"
          ],
          "name": "stdout"
        }
      ]
    },
    {
      "cell_type": "markdown",
      "metadata": {
        "id": "EPefqeiqrFCC",
        "colab_type": "text"
      },
      "source": [
        "### Problem 3(b)\n",
        "\n",
        "Use the Bayesian classifier to classify the points of X1 based on the Parzen window estimation method. Use different values of h and choose the one that results in the best\n",
        "error performance of the classifier. Make a plot to justify your choice."
      ]
    },
    {
      "cell_type": "code",
      "metadata": {
        "id": "hnmzy0dc-aU3",
        "colab_type": "code",
        "outputId": "9cb6922c-1ffc-47a7-c264-8fad05a8b6f0",
        "colab": {
          "base_uri": "https://localhost:8080/",
          "height": 269
        }
      },
      "source": [
        "import matplotlib.pyplot as plt\n",
        "%matplotlib inline\n",
        "\n",
        "A = []\n",
        "\n",
        "for i in range(2, 50):\n",
        "  \n",
        "  parzen = KernelDensity(kernel='gaussian', bandwidth=1).fit(X_train)\n",
        "  P_train = parzen.score_samples(X_train)\n",
        "  \n",
        "  y_hat = bayesian_classifier(m_train, S_train, P_train, X_test)\n",
        "  \n",
        "  error = calculate_error(y_hat[:,0], y_test)\n",
        "  \n",
        "  A.append(np.array([i, error]))\n",
        "  \n",
        "\n",
        "A = np.vstack(A)  \n",
        "lowest = np.where(A == np.amin(A[:,1]))\n",
        "\n",
        "\n",
        "plt.plot(A[:,0], A[:,1])\n",
        "plt.show()"
      ],
      "execution_count": 0,
      "outputs": [
        {
          "output_type": "display_data",
          "data": {
            "image/png": "[encoded data removed]",
            "text/plain": [
              "<Figure size 432x288 with 1 Axes>"
            ]
          },
          "metadata": {
            "tags": []
          }
        }
      ]
    },
    {
      "cell_type": "markdown",
      "metadata": {
        "id": "QgqgJeiZbbDL",
        "colab_type": "text"
      },
      "source": [
        "## Problem 4\n",
        "\n",
        "Repeat exercise (3) but use k-NN instead of parzen windows. Use different\n",
        "values of k and choose the one that results in the best error performance of the classifier.\n",
        "Make a plot to justify your choice."
      ]
    },
    {
      "cell_type": "code",
      "metadata": {
        "id": "dcOHyF-6NKMg",
        "colab_type": "code",
        "outputId": "5b1a0ebf-6371-41ba-9eee-e6943ce61b4d",
        "colab": {
          "base_uri": "https://localhost:8080/",
          "height": 68
        }
      },
      "source": [
        "from sklearn.neighbors import KNeighborsClassifier\n",
        "\n",
        "knn = KNeighborsClassifier(n_neighbors=3)\n",
        "knn.fit(X_train, y_train) \n",
        "\n",
        "\n"
      ],
      "execution_count": 0,
      "outputs": [
        {
          "output_type": "execute_result",
          "data": {
            "text/plain": [
              "KNeighborsClassifier(algorithm='auto', leaf_size=30, metric='minkowski',\n",
              "                     metric_params=None, n_jobs=None, n_neighbors=3, p=2,\n",
              "                     weights='uniform')"
            ]
          },
          "metadata": {
            "tags": []
          },
          "execution_count": 190
        }
      ]
    },
    {
      "cell_type": "code",
      "metadata": {
        "id": "NfKeYfqwmV9H",
        "colab_type": "code",
        "outputId": "19912f09-4c44-48eb-aeb6-c8cdc5efaa90",
        "colab": {
          "base_uri": "https://localhost:8080/",
          "height": 269
        }
      },
      "source": [
        "import matplotlib.pyplot as plt\n",
        "%matplotlib inline\n",
        "\n",
        "A = []\n",
        "\n",
        "for i in range(2, 50):\n",
        "  \n",
        "  knn = KNeighborsClassifier(n_neighbors=i)\n",
        "  knn.fit(X_train, y_train) \n",
        "  \n",
        "  y_hat = knn.predict(X_test)\n",
        "  \n",
        "  #am I supposed to use this as a P for bayesian classfiication or just proceed\n",
        "  \n",
        "  error = calculate_error(y_hat, y_test)\n",
        "  \n",
        "  A.append(np.array([i, error]))\n",
        "  \n",
        "\n",
        "A = np.vstack(A)  \n",
        "lowest = np.where(A == np.amin(A[:,1]))\n",
        "\n",
        "\n",
        "plt.plot(A[:,0], A[:,1])\n",
        "plt.show()"
      ],
      "execution_count": 0,
      "outputs": [
        {
          "output_type": "display_data",
          "data": {
            "image/png": "[encoded data removed]",
            "text/plain": [
              "<Figure size 432x288 with 1 Axes>"
            ]
          },
          "metadata": {
            "tags": []
          }
        }
      ]
    },
    {
      "cell_type": "code",
      "metadata": {
        "id": "9jrPcDRE1TP4",
        "colab_type": "code",
        "outputId": "bf446936-9abd-44f3-9289-d936cada7494",
        "colab": {
          "base_uri": "https://localhost:8080/",
          "height": 833
        }
      },
      "source": [
        "A"
      ],
      "execution_count": 0,
      "outputs": [
        {
          "output_type": "execute_result",
          "data": {
            "text/plain": [
              "array([[ 2.        ,  0.08308308],\n",
              "       [ 3.        ,  0.07607608],\n",
              "       [ 4.        ,  0.06706707],\n",
              "       [ 5.        ,  0.06906907],\n",
              "       [ 6.        ,  0.06706707],\n",
              "       [ 7.        ,  0.06906907],\n",
              "       [ 8.        ,  0.06706707],\n",
              "       [ 9.        ,  0.07007007],\n",
              "       [10.        ,  0.06706707],\n",
              "       [11.        ,  0.06706707],\n",
              "       [12.        ,  0.06206206],\n",
              "       [13.        ,  0.06306306],\n",
              "       [14.        ,  0.05905906],\n",
              "       [15.        ,  0.06206206],\n",
              "       [16.        ,  0.05905906],\n",
              "       [17.        ,  0.05905906],\n",
              "       [18.        ,  0.06006006],\n",
              "       [19.        ,  0.06006006],\n",
              "       [20.        ,  0.05705706],\n",
              "       [21.        ,  0.05705706],\n",
              "       [22.        ,  0.05805806],\n",
              "       [23.        ,  0.06006006],\n",
              "       [24.        ,  0.05805806],\n",
              "       [25.        ,  0.05905906],\n",
              "       [26.        ,  0.06006006],\n",
              "       [27.        ,  0.05905906],\n",
              "       [28.        ,  0.05805806],\n",
              "       [29.        ,  0.05705706],\n",
              "       [30.        ,  0.05705706],\n",
              "       [31.        ,  0.06006006],\n",
              "       [32.        ,  0.06106106],\n",
              "       [33.        ,  0.06006006],\n",
              "       [34.        ,  0.05905906],\n",
              "       [35.        ,  0.05805806],\n",
              "       [36.        ,  0.05705706],\n",
              "       [37.        ,  0.05705706],\n",
              "       [38.        ,  0.05805806],\n",
              "       [39.        ,  0.05805806],\n",
              "       [40.        ,  0.05805806],\n",
              "       [41.        ,  0.05605606],\n",
              "       [42.        ,  0.05705706],\n",
              "       [43.        ,  0.05705706],\n",
              "       [44.        ,  0.06006006],\n",
              "       [45.        ,  0.06006006],\n",
              "       [46.        ,  0.05905906],\n",
              "       [47.        ,  0.06006006],\n",
              "       [48.        ,  0.06206206],\n",
              "       [49.        ,  0.05805806]])"
            ]
          },
          "metadata": {
            "tags": []
          },
          "execution_count": 199
        }
      ]
    },
    {
      "cell_type": "code",
      "metadata": {
        "id": "XNHXXYBU6gU_",
        "colab_type": "code",
        "colab": {}
      },
      "source": [
        ""
      ],
      "execution_count": 0,
      "outputs": []
    }
  ]
}